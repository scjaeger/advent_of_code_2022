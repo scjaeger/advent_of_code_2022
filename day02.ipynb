{
 "cells": [
  {
   "cell_type": "markdown",
   "metadata": {},
   "source": [
    "### Rock, Paper, Scissors outcomes"
   ]
  },
  {
   "cell_type": "code",
   "execution_count": 15,
   "metadata": {},
   "outputs": [],
   "source": [
    "# A,X --> rock = 1\n",
    "# B, Y --> paper = 2\n",
    "# C, Z --> scissors = 3\n",
    "\n",
    "score_check_1 = {\n",
    "    'A': {\n",
    "        'X': 1 + 3,\n",
    "        'Y': 2 + 6,\n",
    "        'Z': 3 + 0\n",
    "        },\n",
    "    'B': {\n",
    "        'X': 1 + 0,\n",
    "        'Y': 2 + 3,\n",
    "        'Z': 3 + 6\n",
    "        },\n",
    "    'C': {\n",
    "        'X': 1 + 6,\n",
    "        'Y': 2 + 0,\n",
    "        'Z': 3 + 3\n",
    "        },\n",
    "}\n",
    "\n",
    "score_check_2 = {\n",
    "    'A': {\n",
    "        'X': 3 + 0, # lose\n",
    "        'Y': 1 + 3, # draw\n",
    "        'Z': 2 + 6  # win\n",
    "        },\n",
    "    'B': { \n",
    "        'X': 1 + 0, \n",
    "        'Y': 2 + 3,\n",
    "        'Z': 3 + 6\n",
    "        },\n",
    "    'C': { \n",
    "        'X': 2 + 0,\n",
    "        'Y': 3 + 3,\n",
    "        'Z': 1 + 6\n",
    "        },\n",
    "}"
   ]
  },
  {
   "cell_type": "markdown",
   "metadata": {},
   "source": [
    "### test"
   ]
  },
  {
   "cell_type": "code",
   "execution_count": 16,
   "metadata": {},
   "outputs": [
    {
     "data": {
      "text/plain": [
       "15"
      ]
     },
     "execution_count": 16,
     "metadata": {},
     "output_type": "execute_result"
    }
   ],
   "source": [
    "example = [['A', 'Y'], ['B', 'X'], ['C', 'Z']]\n",
    "\n",
    "score = 0\n",
    "\n",
    "for round in example:\n",
    "    score += score_check_1[round[0]][round[1]]\n",
    "    \n",
    "score"
   ]
  },
  {
   "cell_type": "markdown",
   "metadata": {},
   "source": [
    "### calculations"
   ]
  },
  {
   "cell_type": "code",
   "execution_count": 17,
   "metadata": {},
   "outputs": [],
   "source": [
    "def get_score(check_table: dict) -> int:\n",
    "    with open(\"data/day02.txt\", \"r\") as file:\n",
    "        lines = file.readlines()\n",
    "\n",
    "    score = 0   \n",
    "    \n",
    "    for line in lines:\n",
    "        line = line.replace(\"\\n\", \"\")\n",
    "        line = line.split(\" \")\n",
    "        score += check_table[line[0]][line[1]]\n",
    "        \n",
    "    return score"
   ]
  },
  {
   "cell_type": "code",
   "execution_count": 18,
   "metadata": {},
   "outputs": [
    {
     "data": {
      "text/plain": [
       "11063"
      ]
     },
     "execution_count": 18,
     "metadata": {},
     "output_type": "execute_result"
    }
   ],
   "source": [
    "task1 = get_score(score_check_1)\n",
    "task1"
   ]
  },
  {
   "cell_type": "code",
   "execution_count": 19,
   "metadata": {},
   "outputs": [
    {
     "data": {
      "text/plain": [
       "10349"
      ]
     },
     "execution_count": 19,
     "metadata": {},
     "output_type": "execute_result"
    }
   ],
   "source": [
    "task2 = get_score(score_check_2)\n",
    "task2"
   ]
  }
 ],
 "metadata": {
  "kernelspec": {
   "display_name": "Python 3.9.7 ('base')",
   "language": "python",
   "name": "python3"
  },
  "language_info": {
   "codemirror_mode": {
    "name": "ipython",
    "version": 3
   },
   "file_extension": ".py",
   "mimetype": "text/x-python",
   "name": "python",
   "nbconvert_exporter": "python",
   "pygments_lexer": "ipython3",
   "version": "3.9.7"
  },
  "orig_nbformat": 4,
  "vscode": {
   "interpreter": {
    "hash": "f970a4df7d20f1185ed003fdc4111c4356fb1f6e15a77319f2d0dcda97ed7847"
   }
  }
 },
 "nbformat": 4,
 "nbformat_minor": 2
}
