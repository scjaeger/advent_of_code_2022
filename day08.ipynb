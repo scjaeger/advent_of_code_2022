{
 "cells": [
  {
   "cell_type": "markdown",
   "metadata": {},
   "source": [
    "### imports"
   ]
  },
  {
   "cell_type": "code",
   "execution_count": 1,
   "metadata": {},
   "outputs": [],
   "source": [
    "import numpy as np"
   ]
  },
  {
   "cell_type": "markdown",
   "metadata": {},
   "source": [
    "### Constants"
   ]
  },
  {
   "cell_type": "code",
   "execution_count": 3,
   "metadata": {},
   "outputs": [],
   "source": [
    "example_input = np.array([\n",
    "    [3,0,3,7,3],\n",
    "    [2,5,5,1,2],\n",
    "    [6,5,3,3,2],\n",
    "    [3,3,5,4,9],\n",
    "    [3,5,3,9,0],\n",
    "])"
   ]
  },
  {
   "cell_type": "markdown",
   "metadata": {},
   "source": [
    "### Methods"
   ]
  },
  {
   "cell_type": "code",
   "execution_count": 86,
   "metadata": {},
   "outputs": [],
   "source": [
    "def find_visible_trees(array: np.array) -> int:\n",
    "    \n",
    "    # set counting variable\n",
    "    visible_trees = 0\n",
    "    \n",
    "    # loop trough array\n",
    "    for row in range(array.shape[0]):\n",
    "        for col in range(array.shape[1]):\n",
    "            \n",
    "            # add 1 visibility for trees on the edge\n",
    "            if is_edge(array, row, col):\n",
    "                visible_trees += 1\n",
    "            \n",
    "            # add 1 for visible center trees\n",
    "            elif check_visibility(array, row, col):\n",
    "                visible_trees += 1\n",
    "                \n",
    "            else:\n",
    "                continue\n",
    "            \n",
    "    return visible_trees\n",
    "\n",
    "def is_edge(array: np.array, row: int, col: int)-> bool:\n",
    "    \n",
    "    # return True if Tree is on the edge of the array\n",
    "    if row == 0 or col == 0 or row == array.shape[0]-1 or col == array.shape[1]-1:\n",
    "        return True\n",
    "    else:\n",
    "        return False\n",
    "    \n",
    "\n",
    "def check_visibility(array: np.array, row:int, col: int) -> bool:\n",
    "    # get tree height\n",
    "    tree = array[row, col]\n",
    "    \n",
    "    # check if tree is the highest one for each direction\n",
    "    top_view = tree > np.amax(array[:row, col])\n",
    "    bottom_view = tree > np.amax(array[row+1:, col])\n",
    "    left_view = tree > np.amax(array[row, :col])\n",
    "    right_view = tree > np.amax(array[row, col+1:])\n",
    "    \n",
    "    # return True if at least one direction is True\n",
    "    if top_view or bottom_view or left_view or right_view:\n",
    "        return True\n",
    "    \n",
    "    else:\n",
    "        return False\n",
    "    \n",
    "\n",
    "def find_best_view(array: np.array) -> int:\n",
    "    \n",
    "    \n",
    "    best_view = 0\n",
    "    \n",
    "    # loop trough array\n",
    "    for row in range(array.shape[0]):\n",
    "        for col in range(array.shape[1]):\n",
    "            \n",
    "            # ignore Tree if it is on edge\n",
    "            if is_edge(array, row, col):\n",
    "                continue\n",
    "            \n",
    "            else:\n",
    "                # get view score for tree\n",
    "                current_view = check_total_view(array, row, col)\n",
    "                \n",
    "                # replace best if the current tree has a better view\n",
    "                if current_view > best_view:\n",
    "                    best_view = current_view\n",
    "                    \n",
    "    return best_view\n",
    "                \n",
    "\n",
    "\n",
    "def check_total_view(array: np.array, row: int, col:int) -> int:\n",
    "    # get tree height\n",
    "    tree = array[row, col]\n",
    "    \n",
    "    # get amount of visible trees for each direction\n",
    "    top_view = check_line_view(array[:row, col], tree, True)\n",
    "    bottom_view = check_line_view(array[row+1:, col], tree, False)\n",
    "    left_view = check_line_view(array[row, :col], tree, True)\n",
    "    right_view = check_line_view(array[row, col+1:], tree, False)\n",
    "    \n",
    "    # calculate view score by multiplying each direction\n",
    "    view_score = top_view * bottom_view * left_view * right_view\n",
    "    \n",
    "    return view_score\n",
    "\n",
    "    \n",
    "def check_line_view(line: np.array, height: int, reverse: bool) -> int:\n",
    "    \n",
    "    # reverse the order of the array if necessary\n",
    "    if reverse:\n",
    "        line = np.flip(line)\n",
    "    \n",
    "    # find taller trees in direction\n",
    "    tall_trees = np.where(line >= height)\n",
    "    \n",
    "    # if all trees are smaller, return the amount of trees\n",
    "    if len(tall_trees[0]) == 0:\n",
    "        return len(line)\n",
    "    \n",
    "    # if there are tall trees in line, return the one with the lowest index (closest distance)\n",
    "    else:\n",
    "        return np.amin(tall_trees[0]) + 1"
   ]
  },
  {
   "cell_type": "markdown",
   "metadata": {},
   "source": [
    "### Test"
   ]
  },
  {
   "cell_type": "code",
   "execution_count": 88,
   "metadata": {},
   "outputs": [
    {
     "name": "stdout",
     "output_type": "stream",
     "text": [
      "Example\n",
      "task 1: 21\n",
      "task 2: 4 / 8\n"
     ]
    }
   ],
   "source": [
    "test_1 = find_visible_trees(example_input)\n",
    "test_2a = check_total_view(example_input, 1, 2)\n",
    "test_2b = check_total_view(example_input, 3, 2)\n",
    "\n",
    "print(f\"Example\\ntask 1: {test_1}\\ntask 2: {test_2a} / {test_2b}\")"
   ]
  },
  {
   "cell_type": "markdown",
   "metadata": {},
   "source": [
    "### Day 8 tasks"
   ]
  },
  {
   "cell_type": "code",
   "execution_count": 90,
   "metadata": {},
   "outputs": [
    {
     "name": "stdout",
     "output_type": "stream",
     "text": [
      "There are 1679 visible trees. The best view has a score of 536625\n"
     ]
    }
   ],
   "source": [
    "with open(\"data/day08.txt\", \"r\") as file:\n",
    "    lines = file.read().splitlines()\n",
    "    \n",
    "for row, line in enumerate(lines):\n",
    "    lines[row] = [int(number) for number in line]\n",
    "    \n",
    "trees = np.array(lines)\n",
    "\n",
    "task_1 = find_visible_trees(trees)\n",
    "task_2 = find_best_view(trees)\n",
    "\n",
    "print(f\"There are {task_1} visible trees. The best view has a score of {task_2}\")"
   ]
  }
 ],
 "metadata": {
  "kernelspec": {
   "display_name": "Python 3.9.7 ('base')",
   "language": "python",
   "name": "python3"
  },
  "language_info": {
   "codemirror_mode": {
    "name": "ipython",
    "version": 3
   },
   "file_extension": ".py",
   "mimetype": "text/x-python",
   "name": "python",
   "nbconvert_exporter": "python",
   "pygments_lexer": "ipython3",
   "version": "3.9.7"
  },
  "orig_nbformat": 4,
  "vscode": {
   "interpreter": {
    "hash": "f970a4df7d20f1185ed003fdc4111c4356fb1f6e15a77319f2d0dcda97ed7847"
   }
  }
 },
 "nbformat": 4,
 "nbformat_minor": 2
}
