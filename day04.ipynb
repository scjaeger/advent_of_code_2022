{
 "cells": [
  {
   "cell_type": "markdown",
   "metadata": {},
   "source": [
    "### example input"
   ]
  },
  {
   "cell_type": "code",
   "execution_count": 1,
   "metadata": {},
   "outputs": [],
   "source": [
    "example = [\n",
    "    \"2-4,6-8\",\n",
    "    \"2-3,4-5\",\n",
    "    \"5-7,7-9\",\n",
    "    \"2-8,3-7\",\n",
    "    \"6-6,4-6\",\n",
    "    \"2-6,4-8\"]"
   ]
  },
  {
   "cell_type": "markdown",
   "metadata": {},
   "source": [
    "### methods"
   ]
  },
  {
   "cell_type": "code",
   "execution_count": 33,
   "metadata": {},
   "outputs": [],
   "source": [
    "def split_sections(line: str) -> tuple:\n",
    "\n",
    "    # split ranges at ,\n",
    "    sections = line.split(\",\")\n",
    "\n",
    "    return sections[0], sections[1]\n",
    "\n",
    "\n",
    "def get_section_list(start_end: str) -> range:\n",
    "\n",
    "    # make range from starting value and end value\n",
    "    start = int(start_end.split(\"-\")[0])\n",
    "    end = int(start_end.split(\"-\")[1])\n",
    "\n",
    "    return range(start, end+1, 1)\n",
    "\n",
    "\n",
    "def check_complete_overlap(list_1: list, list_2: list) -> bool:\n",
    "\n",
    "    # return True if first and last value of the smaller list are within range of the larger list\n",
    "    if len(list_1) >= len(list_2) and list_1[0] <= list_2[0] and list_1[-1] >= list_2[-1]:\n",
    "        return True\n",
    "    elif len(list_2) >= len(list_1) and list_2[0] <= list_1[0] and list_2[-1] >= list_1[-1]:\n",
    "        return True\n",
    "    else:\n",
    "        return False\n",
    "\n",
    "def check_partial_overlap(list_1: list, list_2: list) -> bool:\n",
    "\n",
    "    # return True if list with smallest value overall ends higher than the smallest value of the other list\n",
    "    if list_1[0] <= list_2[0] and list_1[0] <= list_2[0] <= list_1[-1]:\n",
    "        return True\n",
    "    elif list_2[0] <= list_1[0] and list_2[0] <= list_1[0] <= list_2[-1]:\n",
    "        return True\n",
    "    else:\n",
    "        return False\n",
    "\n",
    "def count_redundancy(line: str, task: str) -> int:\n",
    "    section_1, section_2 = split_sections(line)\n",
    "    section_1 = get_section_list(section_1)\n",
    "    section_2 = get_section_list(section_2)\n",
    "\n",
    "    if task == \"task 1\":\n",
    "        overlap = check_complete_overlap(section_1, section_2)\n",
    "    else:\n",
    "        overlap = check_partial_overlap(section_1, section_2)\n",
    "\n",
    "    if overlap:\n",
    "        return 1\n",
    "    else:\n",
    "        return 0"
   ]
  },
  {
   "cell_type": "markdown",
   "metadata": {},
   "source": [
    "### test run"
   ]
  },
  {
   "cell_type": "code",
   "execution_count": 34,
   "metadata": {},
   "outputs": [
    {
     "name": "stdout",
     "output_type": "stream",
     "text": [
      "Task 1: 2\n",
      "Task 2: 4\n"
     ]
    }
   ],
   "source": [
    "task_1 = 0\n",
    "task_2 = 0\n",
    "\n",
    "for line in example:\n",
    "    task_1 += count_redundancy(line, \"task 1\")\n",
    "    task_2 += count_redundancy(line, \"task_2\")\n",
    "\n",
    "print(f\"Task 1: {task_1}\\nTask 2: {task_2}\")"
   ]
  },
  {
   "cell_type": "markdown",
   "metadata": {},
   "source": [
    "### Day 4 tasks"
   ]
  },
  {
   "cell_type": "code",
   "execution_count": 37,
   "metadata": {},
   "outputs": [
    {
     "name": "stdout",
     "output_type": "stream",
     "text": [
      "Task 1: 424\n",
      "Task 2: 804\n"
     ]
    }
   ],
   "source": [
    "with open(\"data/day04.txt\", \"r\") as file:\n",
    "    lines = file.read().splitlines()\n",
    "\n",
    "task_1 = 0\n",
    "task_2 = 0\n",
    "\n",
    "for line in lines:\n",
    "    task_1 += count_redundancy(line, \"task 1\")\n",
    "    task_2 += count_redundancy(line, \"task_2\")\n",
    "\n",
    "print(f\"Task 1: {task_1}\\nTask 2: {task_2}\")\n"
   ]
  }
 ],
 "metadata": {
  "kernelspec": {
   "display_name": "Python 3.8.8 ('base')",
   "language": "python",
   "name": "python3"
  },
  "language_info": {
   "codemirror_mode": {
    "name": "ipython",
    "version": 3
   },
   "file_extension": ".py",
   "mimetype": "text/x-python",
   "name": "python",
   "nbconvert_exporter": "python",
   "pygments_lexer": "ipython3",
   "version": "3.8.8"
  },
  "orig_nbformat": 4,
  "vscode": {
   "interpreter": {
    "hash": "54431435bd4a677c8d2e3fcf96d8fc19f3255af16baee5ed7bfacbeeaf7f2b8b"
   }
  }
 },
 "nbformat": 4,
 "nbformat_minor": 2
}
