{
 "cells": [
  {
   "cell_type": "code",
   "execution_count": 1,
   "metadata": {},
   "outputs": [],
   "source": [
    "import numpy as np"
   ]
  },
  {
   "cell_type": "markdown",
   "metadata": {},
   "source": [
    "### Parsing"
   ]
  },
  {
   "cell_type": "code",
   "execution_count": 18,
   "metadata": {},
   "outputs": [],
   "source": [
    "with open(\"data/day01.txt\", \"r\") as file:\n",
    "    lines = file.readlines()\n",
    "\n",
    "snacks = [] # calories of each snack\n",
    "elves = []  # sum of snacks of each elve\n",
    "for line in lines:\n",
    "    # add sum of snacks to elve at each empty row\n",
    "    if line == \"\\n\":\n",
    "        elve = sum(snacks)\n",
    "        elves.append(elve)\n",
    "        snacks = []\n",
    "    # add calories to snack at each numeric row\n",
    "    else:\n",
    "        food = int(line.replace(\"\\n\",\"\"))\n",
    "        snacks.append(food)"
   ]
  },
  {
   "cell_type": "markdown",
   "metadata": {},
   "source": [
    "### Which elve carries the most calories?"
   ]
  },
  {
   "cell_type": "code",
   "execution_count": 19,
   "metadata": {},
   "outputs": [
    {
     "data": {
      "text/plain": [
       "69836"
      ]
     },
     "execution_count": 19,
     "metadata": {},
     "output_type": "execute_result"
    }
   ],
   "source": [
    "highest_calories = np.amax(elves)\n",
    "highest_calories"
   ]
  },
  {
   "cell_type": "markdown",
   "metadata": {},
   "source": [
    "### What are the top three elves based on calories?"
   ]
  },
  {
   "cell_type": "code",
   "execution_count": 20,
   "metadata": {},
   "outputs": [
    {
     "data": {
      "text/plain": [
       "207968"
      ]
     },
     "execution_count": 20,
     "metadata": {},
     "output_type": "execute_result"
    }
   ],
   "source": [
    "sorted_elves = sorted(elves, reverse= True)\n",
    "top_three = sum(sorted_elves[:3])\n",
    "top_three"
   ]
  }
 ],
 "metadata": {
  "kernelspec": {
   "display_name": "Python 3.9.7 ('base')",
   "language": "python",
   "name": "python3"
  },
  "language_info": {
   "codemirror_mode": {
    "name": "ipython",
    "version": 3
   },
   "file_extension": ".py",
   "mimetype": "text/x-python",
   "name": "python",
   "nbconvert_exporter": "python",
   "pygments_lexer": "ipython3",
   "version": "3.9.7"
  },
  "orig_nbformat": 4,
  "vscode": {
   "interpreter": {
    "hash": "f970a4df7d20f1185ed003fdc4111c4356fb1f6e15a77319f2d0dcda97ed7847"
   }
  }
 },
 "nbformat": 4,
 "nbformat_minor": 2
}
