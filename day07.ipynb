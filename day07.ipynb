{
 "cells": [
  {
   "cell_type": "markdown",
   "metadata": {},
   "source": [
    "### Constants"
   ]
  },
  {
   "cell_type": "code",
   "execution_count": 1,
   "metadata": {},
   "outputs": [],
   "source": [
    "example_input = [\n",
    "    \"$ cd /\",\n",
    "    \"$ ls\",\n",
    "    \"dir a\",\n",
    "    \"14848514 b.txt\",\n",
    "    \"8504156 c.dat\",\n",
    "    \"dir d\",\n",
    "    \"$ cd a\",\n",
    "    \"$ ls\",\n",
    "    \"dir e\",\n",
    "    \"29116 f\",\n",
    "    \"2557 g\",\n",
    "    \"62596 h.lst\",\n",
    "    \"$ cd e\",\n",
    "    \"$ ls\",\n",
    "    \"584 i\",\n",
    "    \"$ cd ..\",\n",
    "    \"$ cd ..\",\n",
    "    \"$ cd d\",\n",
    "    \"$ ls\",\n",
    "    \"4060174 j\",\n",
    "    \"8033020 d.log\",\n",
    "    \"5626152 d.ext\",\n",
    "    \"7214296 k\",\n",
    "    ]\n",
    "\n",
    "threshold = 100000\n",
    "\n",
    "overall_space = 70000000\n",
    "target_space = 30000000"
   ]
  },
  {
   "cell_type": "markdown",
   "metadata": {},
   "source": [
    "### Directory Class"
   ]
  },
  {
   "cell_type": "code",
   "execution_count": 5,
   "metadata": {},
   "outputs": [],
   "source": [
    "class Directory():\n",
    "    def __init__(self, name, home_dir):\n",
    "        self.name = name\n",
    "        self.home = home_dir\n",
    "        self.subdirs = []\n",
    "        self.size = 0\n",
    "\n",
    "    def add_file_sizes(self, size: int, dir):\n",
    "        dir.size += size\n",
    "        if dir.home:\n",
    "            self.add_file_sizes(size, dir.home)\n",
    "            \n",
    "    def update(self, line: str):\n",
    "        if \"dir\" in line:\n",
    "            name = line.split(\"dir \")[1]\n",
    "            self.subdirs.append(Directory(name, dir))\n",
    "        else:\n",
    "            digits = self.get_digits(line)\n",
    "            self.add_file_sizes(digits, dir)\n",
    "            \n",
    "    def get_digits(self, line:str)-> int:\n",
    "        digits = \"\"\n",
    "        for character in line:\n",
    "            if character.isnumeric():\n",
    "                digits += character\n",
    "        return int(digits)\n"
   ]
  },
  {
   "cell_type": "markdown",
   "metadata": {},
   "source": [
    "### Methods"
   ]
  },
  {
   "cell_type": "code",
   "execution_count": 6,
   "metadata": {},
   "outputs": [],
   "source": [
    "def day_seven(command_lines: list) -> tuple:\n",
    "    home = Directory(None, None)\n",
    "    dir = home\n",
    "\n",
    "    for line in command_lines[1:]:\n",
    "        if not \"$\" in line:\n",
    "            dir.update(line)     \n",
    "        else:\n",
    "            dir = change_dir(dir, line)\n",
    "\n",
    "    start_size = home.size if home.size <= threshold else 0\n",
    "    small_sum = find_small_directories(home, start_size)\n",
    "\n",
    "    needed_space = target_space - overall_space + home.size\n",
    "\n",
    "    del_dir = find_delete_directory(home, home, needed_space)\n",
    "    \n",
    "    return small_sum, del_dir.size\n",
    "\n",
    "def change_dir(dir: Directory, line: str) -> Directory:\n",
    "    if \"cd ..\" in line:\n",
    "        dir = dir.home\n",
    "    elif \"cd\" in line:\n",
    "        name = line.split(\"cd \")[1]\n",
    "        dir = [subdir for subdir in dir.subdirs if subdir.name == name][0]\n",
    "        \n",
    "    return dir\n",
    "\n",
    "\n",
    "def find_small_directories(dir:Directory, dir_sum: int) -> list:\n",
    "    for sub in dir.subdirs:\n",
    "        if sub.size <= threshold:\n",
    "            dir_sum += sub.size\n",
    "        dir_sum = find_small_directories(sub, dir_sum)\n",
    "        \n",
    "    return dir_sum\n",
    "\n",
    "  \n",
    "def find_delete_directory(dir:Directory, best_candidate: Directory, needed_space:int):\n",
    "    for sub in dir.subdirs:\n",
    "        if best_candidate.size > sub.size > needed_space:\n",
    "            best_candidate = sub\n",
    "        best_candidate = find_delete_directory(sub, best_candidate, needed_space)\n",
    "        \n",
    "    return best_candidate"
   ]
  },
  {
   "cell_type": "code",
   "execution_count": 7,
   "metadata": {},
   "outputs": [
    {
     "ename": "AttributeError",
     "evalue": "'builtin_function_or_method' object has no attribute 'size'",
     "output_type": "error",
     "traceback": [
      "\u001b[1;31m---------------------------------------------------------------------------\u001b[0m",
      "\u001b[1;31mAttributeError\u001b[0m                            Traceback (most recent call last)",
      "\u001b[1;32mC:\\Users\\SEBAST~1.JAE\\AppData\\Local\\Temp/ipykernel_7204/1653537893.py\u001b[0m in \u001b[0;36m<module>\u001b[1;34m\u001b[0m\n\u001b[1;32m----> 1\u001b[1;33m \u001b[0msum_of_small_dirs\u001b[0m\u001b[1;33m,\u001b[0m \u001b[0mdeleted_dir_size\u001b[0m \u001b[1;33m=\u001b[0m \u001b[0mday_seven\u001b[0m\u001b[1;33m(\u001b[0m\u001b[0mexample_input\u001b[0m\u001b[1;33m)\u001b[0m\u001b[1;33m\u001b[0m\u001b[1;33m\u001b[0m\u001b[0m\n\u001b[0m\u001b[0;32m      2\u001b[0m \u001b[1;33m\u001b[0m\u001b[0m\n\u001b[0;32m      3\u001b[0m \u001b[0mprint\u001b[0m\u001b[1;33m(\u001b[0m\u001b[1;34mf\"Task 1: All directories smaller than {threshold} add up to {sum_of_small_dirs}\"\u001b[0m\u001b[1;33m)\u001b[0m\u001b[1;33m\u001b[0m\u001b[1;33m\u001b[0m\u001b[0m\n\u001b[0;32m      4\u001b[0m \u001b[0mprint\u001b[0m\u001b[1;33m(\u001b[0m\u001b[1;34mf\"Task 2: The directorie that should be deleted has a size of {deleted_dir_size}\"\u001b[0m\u001b[1;33m)\u001b[0m\u001b[1;33m\u001b[0m\u001b[1;33m\u001b[0m\u001b[0m\n",
      "\u001b[1;32mC:\\Users\\SEBAST~1.JAE\\AppData\\Local\\Temp/ipykernel_7204/4280422441.py\u001b[0m in \u001b[0;36mday_seven\u001b[1;34m(command_lines)\u001b[0m\n\u001b[0;32m      5\u001b[0m     \u001b[1;32mfor\u001b[0m \u001b[0mline\u001b[0m \u001b[1;32min\u001b[0m \u001b[0mcommand_lines\u001b[0m\u001b[1;33m[\u001b[0m\u001b[1;36m1\u001b[0m\u001b[1;33m:\u001b[0m\u001b[1;33m]\u001b[0m\u001b[1;33m:\u001b[0m\u001b[1;33m\u001b[0m\u001b[1;33m\u001b[0m\u001b[0m\n\u001b[0;32m      6\u001b[0m         \u001b[1;32mif\u001b[0m \u001b[1;32mnot\u001b[0m \u001b[1;34m\"$\"\u001b[0m \u001b[1;32min\u001b[0m \u001b[0mline\u001b[0m\u001b[1;33m:\u001b[0m\u001b[1;33m\u001b[0m\u001b[1;33m\u001b[0m\u001b[0m\n\u001b[1;32m----> 7\u001b[1;33m             \u001b[0mdir\u001b[0m\u001b[1;33m.\u001b[0m\u001b[0mupdate\u001b[0m\u001b[1;33m(\u001b[0m\u001b[0mline\u001b[0m\u001b[1;33m)\u001b[0m\u001b[1;33m\u001b[0m\u001b[1;33m\u001b[0m\u001b[0m\n\u001b[0m\u001b[0;32m      8\u001b[0m         \u001b[1;32melse\u001b[0m\u001b[1;33m:\u001b[0m\u001b[1;33m\u001b[0m\u001b[1;33m\u001b[0m\u001b[0m\n\u001b[0;32m      9\u001b[0m             \u001b[0mdir\u001b[0m \u001b[1;33m=\u001b[0m \u001b[0mchange_dir\u001b[0m\u001b[1;33m(\u001b[0m\u001b[0mdir\u001b[0m\u001b[1;33m,\u001b[0m \u001b[0mline\u001b[0m\u001b[1;33m)\u001b[0m\u001b[1;33m\u001b[0m\u001b[1;33m\u001b[0m\u001b[0m\n",
      "\u001b[1;32mC:\\Users\\SEBAST~1.JAE\\AppData\\Local\\Temp/ipykernel_7204/1873237731.py\u001b[0m in \u001b[0;36mupdate\u001b[1;34m(self, line)\u001b[0m\n\u001b[0;32m     17\u001b[0m         \u001b[1;32melse\u001b[0m\u001b[1;33m:\u001b[0m\u001b[1;33m\u001b[0m\u001b[1;33m\u001b[0m\u001b[0m\n\u001b[0;32m     18\u001b[0m             \u001b[0mdigits\u001b[0m \u001b[1;33m=\u001b[0m \u001b[0mself\u001b[0m\u001b[1;33m.\u001b[0m\u001b[0mget_digits\u001b[0m\u001b[1;33m(\u001b[0m\u001b[0mline\u001b[0m\u001b[1;33m)\u001b[0m\u001b[1;33m\u001b[0m\u001b[1;33m\u001b[0m\u001b[0m\n\u001b[1;32m---> 19\u001b[1;33m             \u001b[0mself\u001b[0m\u001b[1;33m.\u001b[0m\u001b[0madd_file_sizes\u001b[0m\u001b[1;33m(\u001b[0m\u001b[0mdigits\u001b[0m\u001b[1;33m,\u001b[0m \u001b[0mdir\u001b[0m\u001b[1;33m)\u001b[0m\u001b[1;33m\u001b[0m\u001b[1;33m\u001b[0m\u001b[0m\n\u001b[0m\u001b[0;32m     20\u001b[0m \u001b[1;33m\u001b[0m\u001b[0m\n\u001b[0;32m     21\u001b[0m     \u001b[1;32mdef\u001b[0m \u001b[0mget_digits\u001b[0m\u001b[1;33m(\u001b[0m\u001b[0mself\u001b[0m\u001b[1;33m,\u001b[0m \u001b[0mline\u001b[0m\u001b[1;33m:\u001b[0m\u001b[0mstr\u001b[0m\u001b[1;33m)\u001b[0m\u001b[1;33m->\u001b[0m \u001b[0mint\u001b[0m\u001b[1;33m:\u001b[0m\u001b[1;33m\u001b[0m\u001b[1;33m\u001b[0m\u001b[0m\n",
      "\u001b[1;32mC:\\Users\\SEBAST~1.JAE\\AppData\\Local\\Temp/ipykernel_7204/1873237731.py\u001b[0m in \u001b[0;36madd_file_sizes\u001b[1;34m(self, size, dir)\u001b[0m\n\u001b[0;32m      7\u001b[0m \u001b[1;33m\u001b[0m\u001b[0m\n\u001b[0;32m      8\u001b[0m     \u001b[1;32mdef\u001b[0m \u001b[0madd_file_sizes\u001b[0m\u001b[1;33m(\u001b[0m\u001b[0mself\u001b[0m\u001b[1;33m,\u001b[0m \u001b[0msize\u001b[0m\u001b[1;33m:\u001b[0m \u001b[0mint\u001b[0m\u001b[1;33m,\u001b[0m \u001b[0mdir\u001b[0m\u001b[1;33m)\u001b[0m\u001b[1;33m:\u001b[0m\u001b[1;33m\u001b[0m\u001b[1;33m\u001b[0m\u001b[0m\n\u001b[1;32m----> 9\u001b[1;33m         \u001b[0mdir\u001b[0m\u001b[1;33m.\u001b[0m\u001b[0msize\u001b[0m \u001b[1;33m+=\u001b[0m \u001b[0msize\u001b[0m\u001b[1;33m\u001b[0m\u001b[1;33m\u001b[0m\u001b[0m\n\u001b[0m\u001b[0;32m     10\u001b[0m         \u001b[1;32mif\u001b[0m \u001b[0mdir\u001b[0m\u001b[1;33m.\u001b[0m\u001b[0mhome\u001b[0m\u001b[1;33m:\u001b[0m\u001b[1;33m\u001b[0m\u001b[1;33m\u001b[0m\u001b[0m\n\u001b[0;32m     11\u001b[0m             \u001b[0mself\u001b[0m\u001b[1;33m.\u001b[0m\u001b[0madd_file_sizes\u001b[0m\u001b[1;33m(\u001b[0m\u001b[0msize\u001b[0m\u001b[1;33m,\u001b[0m \u001b[0mdir\u001b[0m\u001b[1;33m.\u001b[0m\u001b[0mhome\u001b[0m\u001b[1;33m)\u001b[0m\u001b[1;33m\u001b[0m\u001b[1;33m\u001b[0m\u001b[0m\n",
      "\u001b[1;31mAttributeError\u001b[0m: 'builtin_function_or_method' object has no attribute 'size'"
     ]
    }
   ],
   "source": [
    "sum_of_small_dirs, deleted_dir_size = day_seven(example_input)\n",
    "\n",
    "print(f\"Task 1: All directories smaller than {threshold} add up to {sum_of_small_dirs}\")\n",
    "print(f\"Task 2: The directory that should be deleted has a size of {deleted_dir_size}\")"
   ]
  },
  {
   "cell_type": "code",
   "execution_count": 8,
   "metadata": {},
   "outputs": [
    {
     "data": {
      "text/plain": [
       "24933642"
      ]
     },
     "execution_count": 8,
     "metadata": {},
     "output_type": "execute_result"
    }
   ],
   "source": [
    "home = Directory(None, None)\n",
    "dir = home\n",
    "\n",
    "for line in example_input[1:]:\n",
    "    if not \"$\" in line:\n",
    "        dir.update(line)     \n",
    "    else:\n",
    "        dir = change_dir(dir, line)\n",
    "\n",
    "start_size = home.size if home.size <= threshold else 0\n",
    "small_sum = find_small_directories(home, start_size)\n",
    "\n",
    "needed_space = target_space - overall_space + home.size\n",
    "\n",
    "del_dir = find_delete_directory(home, home, needed_space)\n",
    "del_dir.size"
   ]
  },
  {
   "cell_type": "code",
   "execution_count": null,
   "metadata": {},
   "outputs": [
    {
     "ename": "IndexError",
     "evalue": "list index out of range",
     "output_type": "error",
     "traceback": [
      "\u001b[1;31m---------------------------------------------------------------------------\u001b[0m",
      "\u001b[1;31mIndexError\u001b[0m                                Traceback (most recent call last)",
      "\u001b[1;32mC:\\Users\\SEBAST~1.JAE\\AppData\\Local\\Temp/ipykernel_13452/3108161805.py\u001b[0m in \u001b[0;36m<module>\u001b[1;34m\u001b[0m\n\u001b[0;32m      2\u001b[0m     \u001b[0mlines\u001b[0m \u001b[1;33m=\u001b[0m \u001b[0mfile\u001b[0m\u001b[1;33m.\u001b[0m\u001b[0mread\u001b[0m\u001b[1;33m(\u001b[0m\u001b[1;33m)\u001b[0m\u001b[1;33m.\u001b[0m\u001b[0msplitlines\u001b[0m\u001b[1;33m(\u001b[0m\u001b[1;33m)\u001b[0m\u001b[1;33m\u001b[0m\u001b[1;33m\u001b[0m\u001b[0m\n\u001b[0;32m      3\u001b[0m \u001b[1;33m\u001b[0m\u001b[0m\n\u001b[1;32m----> 4\u001b[1;33m \u001b[0msum_of_small_dirs\u001b[0m\u001b[1;33m,\u001b[0m \u001b[0mdeleted_dir_size\u001b[0m \u001b[1;33m=\u001b[0m \u001b[0mday_seven\u001b[0m\u001b[1;33m(\u001b[0m\u001b[0mlines\u001b[0m\u001b[1;33m)\u001b[0m\u001b[1;33m\u001b[0m\u001b[1;33m\u001b[0m\u001b[0m\n\u001b[0m\u001b[0;32m      5\u001b[0m \u001b[1;33m\u001b[0m\u001b[0m\n\u001b[0;32m      6\u001b[0m \u001b[0mprint\u001b[0m\u001b[1;33m(\u001b[0m\u001b[1;34mf\"Task 1: All directories smaller than {threshold} add up to {sum_of_small_dirs}\"\u001b[0m\u001b[1;33m)\u001b[0m\u001b[1;33m\u001b[0m\u001b[1;33m\u001b[0m\u001b[0m\n",
      "\u001b[1;32mC:\\Users\\SEBAST~1.JAE\\AppData\\Local\\Temp/ipykernel_13452/4280422441.py\u001b[0m in \u001b[0;36mday_seven\u001b[1;34m(command_lines)\u001b[0m\n\u001b[0;32m      7\u001b[0m             \u001b[0mdir\u001b[0m\u001b[1;33m.\u001b[0m\u001b[0mupdate\u001b[0m\u001b[1;33m(\u001b[0m\u001b[0mline\u001b[0m\u001b[1;33m)\u001b[0m\u001b[1;33m\u001b[0m\u001b[1;33m\u001b[0m\u001b[0m\n\u001b[0;32m      8\u001b[0m         \u001b[1;32melse\u001b[0m\u001b[1;33m:\u001b[0m\u001b[1;33m\u001b[0m\u001b[1;33m\u001b[0m\u001b[0m\n\u001b[1;32m----> 9\u001b[1;33m             \u001b[0mdir\u001b[0m \u001b[1;33m=\u001b[0m \u001b[0mchange_dir\u001b[0m\u001b[1;33m(\u001b[0m\u001b[0mdir\u001b[0m\u001b[1;33m,\u001b[0m \u001b[0mline\u001b[0m\u001b[1;33m)\u001b[0m\u001b[1;33m\u001b[0m\u001b[1;33m\u001b[0m\u001b[0m\n\u001b[0m\u001b[0;32m     10\u001b[0m \u001b[1;33m\u001b[0m\u001b[0m\n\u001b[0;32m     11\u001b[0m     \u001b[0mstart_size\u001b[0m \u001b[1;33m=\u001b[0m \u001b[0mhome\u001b[0m\u001b[1;33m.\u001b[0m\u001b[0msize\u001b[0m \u001b[1;32mif\u001b[0m \u001b[0mhome\u001b[0m\u001b[1;33m.\u001b[0m\u001b[0msize\u001b[0m \u001b[1;33m<=\u001b[0m \u001b[0mthreshold\u001b[0m \u001b[1;32melse\u001b[0m \u001b[1;36m0\u001b[0m\u001b[1;33m\u001b[0m\u001b[1;33m\u001b[0m\u001b[0m\n",
      "\u001b[1;32mC:\\Users\\SEBAST~1.JAE\\AppData\\Local\\Temp/ipykernel_13452/4280422441.py\u001b[0m in \u001b[0;36mchange_dir\u001b[1;34m(dir, line)\u001b[0m\n\u001b[0;32m     23\u001b[0m     \u001b[1;32melif\u001b[0m \u001b[1;34m\"cd\"\u001b[0m \u001b[1;32min\u001b[0m \u001b[0mline\u001b[0m\u001b[1;33m:\u001b[0m\u001b[1;33m\u001b[0m\u001b[1;33m\u001b[0m\u001b[0m\n\u001b[0;32m     24\u001b[0m         \u001b[0mname\u001b[0m \u001b[1;33m=\u001b[0m \u001b[0mline\u001b[0m\u001b[1;33m.\u001b[0m\u001b[0msplit\u001b[0m\u001b[1;33m(\u001b[0m\u001b[1;34m\"cd \"\u001b[0m\u001b[1;33m)\u001b[0m\u001b[1;33m[\u001b[0m\u001b[1;36m1\u001b[0m\u001b[1;33m]\u001b[0m\u001b[1;33m\u001b[0m\u001b[1;33m\u001b[0m\u001b[0m\n\u001b[1;32m---> 25\u001b[1;33m         \u001b[0mdir\u001b[0m \u001b[1;33m=\u001b[0m \u001b[1;33m[\u001b[0m\u001b[0msubdir\u001b[0m \u001b[1;32mfor\u001b[0m \u001b[0msubdir\u001b[0m \u001b[1;32min\u001b[0m \u001b[0mdir\u001b[0m\u001b[1;33m.\u001b[0m\u001b[0msubdirs\u001b[0m \u001b[1;32mif\u001b[0m \u001b[0msubdir\u001b[0m\u001b[1;33m.\u001b[0m\u001b[0mname\u001b[0m \u001b[1;33m==\u001b[0m \u001b[0mname\u001b[0m\u001b[1;33m]\u001b[0m\u001b[1;33m[\u001b[0m\u001b[1;36m0\u001b[0m\u001b[1;33m]\u001b[0m\u001b[1;33m\u001b[0m\u001b[1;33m\u001b[0m\u001b[0m\n\u001b[0m\u001b[0;32m     26\u001b[0m \u001b[1;33m\u001b[0m\u001b[0m\n\u001b[0;32m     27\u001b[0m     \u001b[1;32mreturn\u001b[0m \u001b[0mdir\u001b[0m\u001b[1;33m\u001b[0m\u001b[1;33m\u001b[0m\u001b[0m\n",
      "\u001b[1;31mIndexError\u001b[0m: list index out of range"
     ]
    }
   ],
   "source": [
    "with open(\"data/day07.txt\", \"r\") as file:\n",
    "    lines = file.read().splitlines()\n",
    "   \n",
    "sum_of_small_dirs, deleted_dir_size = day_seven(lines)\n",
    "\n",
    "print(f\"Task 1: All directories smaller than {threshold} add up to {sum_of_small_dirs}\")\n",
    "print(f\"Task 2: The directory that should be deleted has a size of {deleted_dir_size}\")   \n",
    "    \n",
    "# home = Directory(None, None)\n",
    "# dir = home\n",
    "\n",
    "# for line in lines[1:]:\n",
    "#     if not \"$\" in line:\n",
    "#         dir.update(line)     \n",
    "#     else:\n",
    "#         dir = change_dir(dir, line)\n",
    "\n",
    "# start_size = home.size if home.size <= threshold else 0\n",
    "# small_sum = find_small_directories(home, start_size)\n",
    "\n",
    "# needed_space = 30000000 - 70000000 + home.size\n",
    "\n",
    "# del_dir = find_delete_directory(home, home, needed_space)\n",
    "# del_dir.size"
   ]
  }
 ],
 "metadata": {
  "kernelspec": {
   "display_name": "Python 3.9.7 ('base')",
   "language": "python",
   "name": "python3"
  },
  "language_info": {
   "codemirror_mode": {
    "name": "ipython",
    "version": 3
   },
   "file_extension": ".py",
   "mimetype": "text/x-python",
   "name": "python",
   "nbconvert_exporter": "python",
   "pygments_lexer": "ipython3",
   "version": "3.9.7"
  },
  "orig_nbformat": 4,
  "vscode": {
   "interpreter": {
    "hash": "f970a4df7d20f1185ed003fdc4111c4356fb1f6e15a77319f2d0dcda97ed7847"
   }
  }
 },
 "nbformat": 4,
 "nbformat_minor": 2
}
