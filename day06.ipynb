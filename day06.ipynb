{
 "cells": [
  {
   "cell_type": "markdown",
   "metadata": {},
   "source": [
    "### example input"
   ]
  },
  {
   "cell_type": "code",
   "execution_count": 9,
   "metadata": {},
   "outputs": [],
   "source": [
    "example_input = [\n",
    "    \"mjqjpqmgbljsphdztnvjfqwrcgsmlb\",\n",
    "    \"bvwbjplbgvbhsrlpgdmjqwftvncz\",\n",
    "    \"nppdvjthqldpwncqszvftbrmjlhg\",\n",
    "    \"nznrnfrfntjfmvfwmzdfjlvtqnbhcprsg\",\n",
    "    \"zcfzfwzzqfrljwzlrfnpqdbhtmscgvjw\"\n",
    "    ]   "
   ]
  },
  {
   "cell_type": "markdown",
   "metadata": {},
   "source": [
    "### methods"
   ]
  },
  {
   "cell_type": "code",
   "execution_count": 16,
   "metadata": {},
   "outputs": [],
   "source": [
    "def find_start(line: str, block_length: int) -> int:\n",
    "\n",
    "    for index, _ in enumerate(line):\n",
    "        if index + block_length < len(line):\n",
    "            sequence = line[index:index+block_length]\n",
    "            if len(set(sequence)) == block_length:\n",
    "                return index + block_length\n",
    "            \n",
    "    print(\"no start found\")\n",
    "    return None\n"
   ]
  },
  {
   "cell_type": "markdown",
   "metadata": {},
   "source": [
    "### tests"
   ]
  },
  {
   "cell_type": "code",
   "execution_count": 19,
   "metadata": {},
   "outputs": [
    {
     "name": "stdout",
     "output_type": "stream",
     "text": [
      "start of packet: 7, start of message: 19\n",
      "start of packet: 5, start of message: 23\n",
      "start of packet: 6, start of message: 23\n",
      "start of packet: 10, start of message: 29\n",
      "start of packet: 11, start of message: 26\n"
     ]
    }
   ],
   "source": [
    "for example in example_input:\n",
    "    start_of_packet = find_start(example, 4)\n",
    "    start_of_message = find_start(example, 14)\n",
    "    print(f\"start of packet: {start_of_packet}, start of message: {start_of_message}\")"
   ]
  },
  {
   "cell_type": "markdown",
   "metadata": {},
   "source": [
    "### Day 6"
   ]
  },
  {
   "cell_type": "code",
   "execution_count": 20,
   "metadata": {},
   "outputs": [
    {
     "name": "stdout",
     "output_type": "stream",
     "text": [
      "start of packet: 1702, start of message: 3559\n"
     ]
    }
   ],
   "source": [
    "with open(\"data/day06.txt\", \"r\") as file:\n",
    "    line = file.read().replace(\"\\n\", \"\")\n",
    "    \n",
    "start_of_packet = find_start(line, 4)\n",
    "start_of_message = find_start(line, 14)\n",
    "print(f\"start of packet: {start_of_packet}, start of message: {start_of_message}\")"
   ]
  }
 ],
 "metadata": {
  "kernelspec": {
   "display_name": "Python 3.9.7 ('base')",
   "language": "python",
   "name": "python3"
  },
  "language_info": {
   "codemirror_mode": {
    "name": "ipython",
    "version": 3
   },
   "file_extension": ".py",
   "mimetype": "text/x-python",
   "name": "python",
   "nbconvert_exporter": "python",
   "pygments_lexer": "ipython3",
   "version": "3.9.7"
  },
  "orig_nbformat": 4,
  "vscode": {
   "interpreter": {
    "hash": "f970a4df7d20f1185ed003fdc4111c4356fb1f6e15a77319f2d0dcda97ed7847"
   }
  }
 },
 "nbformat": 4,
 "nbformat_minor": 2
}
