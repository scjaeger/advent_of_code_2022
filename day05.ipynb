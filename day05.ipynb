{
 "cells": [
  {
   "cell_type": "markdown",
   "metadata": {},
   "source": [
    "### example input"
   ]
  },
  {
   "cell_type": "code",
   "execution_count": 14,
   "metadata": {},
   "outputs": [],
   "source": [
    "example_input = [\n",
    "    \"    [D]    \",\n",
    "    \"[N] [C]    \",\n",
    "    \"[Z] [M] [P]\",\n",
    "    \" 1   2   3 \",\n",
    "    \"\\n\",\n",
    "    \"move 1 from 2 to 1\",\n",
    "    \"move 3 from 1 to 3\",\n",
    "    \"move 2 from 2 to 1\",\n",
    "    \"move 1 from 1 to 2\",\n",
    "    ]"
   ]
  },
  {
   "cell_type": "markdown",
   "metadata": {},
   "source": [
    "### Methods"
   ]
  },
  {
   "cell_type": "code",
   "execution_count": 159,
   "metadata": {},
   "outputs": [],
   "source": [
    "def split_input(input: list) -> tuple:\n",
    "    \n",
    "    # find line with numerics but without \"move\" order to split into stacks and movements\n",
    "    for i, line in enumerate(input):\n",
    "        if \"1\" in line and not \"move\" in line:\n",
    "            return input[:i+1], input[i+2:]\n",
    "\n",
    "\n",
    "def get_stacks(stack_input: list)-> dict:\n",
    "    \n",
    "    stacks = {}\n",
    "    \n",
    "    # add all letters above bottom number of stacks to a dictionary (keys = numbers as string)\n",
    "    for i, symbol in enumerate(stack_input[-1]):\n",
    "        if symbol != \" \":\n",
    "            stacks[symbol] = []\n",
    "            for line in stack_input[:-1]:\n",
    "                if line[i] != \" \":\n",
    "                    stacks[symbol].append(line[i])\n",
    "                \n",
    "    return stacks\n",
    "\n",
    "def get_number(text: str) -> int:\n",
    "    \n",
    "    # add all numeric symbols to empty string until symbol is not numeric\n",
    "    number = \"\"\n",
    "    for symbol in text:\n",
    "        if symbol.isnumeric():\n",
    "            number += symbol\n",
    "        else:\n",
    "            return int(number)\n",
    "        \n",
    "    return int(number)\n",
    "            \n",
    "\n",
    "\n",
    "def rearrange_stacks(stacks: dict, movements:list, task_1: bool = True) -> dict:\n",
    "    \n",
    "    # get stack numbers and amount of boxes from movement lines\n",
    "    for i, move in enumerate(movements):\n",
    "        amount = get_number(move.split(\"move \")[1])\n",
    "        from_stack = move.split(\"from \")[1][0]\n",
    "        to_stack = move.split(\"to \")[1][0]\n",
    "        \n",
    "        # trigger warning if too many boxes per stack are demanded\n",
    "        if len(stacks[from_stack]) < amount:\n",
    "            print(f\"line {i}. cannot take boxes from here: {move}\")\n",
    "        \n",
    "        # define boxes to switch stacks (and reverse order for task 1)\n",
    "        boxes_taken = stacks[from_stack][:amount]\n",
    "        if task_1:\n",
    "            boxes_taken.reverse()\n",
    "        \n",
    "        # discard boxes from one stack and add to another\n",
    "        stacks[from_stack] = stacks[from_stack][amount:]\n",
    "        stacks[to_stack] = boxes_taken + stacks[to_stack]\n",
    "\n",
    "    return stacks\n",
    "\n",
    "\n",
    "def get_top_layer(stacks: dict) -> str:\n",
    "    \n",
    "    # read first entry of every list in stacks dict\n",
    "    top_layer = \"\"\n",
    "    for key in stacks.keys():\n",
    "        if stacks[key]:\n",
    "            top_layer += stacks[key][0]\n",
    "        else: \n",
    "            top_layer += \" \"\n",
    "        \n",
    "    return top_layer\n",
    "\n",
    "\n",
    "def day_five(my_input: list, task_1: bool = True)-> str:\n",
    "    stack_input, movement = split_input(my_input)\n",
    "    stacks = get_stacks(stack_input)\n",
    "    stacks = rearrange_stacks(stacks, movement, task_1)\n",
    "    top_layer = get_top_layer(stacks)\n",
    "\n",
    "    return top_layer"
   ]
  },
  {
   "cell_type": "markdown",
   "metadata": {},
   "source": [
    "### Test with example input"
   ]
  },
  {
   "cell_type": "code",
   "execution_count": 160,
   "metadata": {},
   "outputs": [
    {
     "data": {
      "text/plain": [
       "'MCD'"
      ]
     },
     "execution_count": 160,
     "metadata": {},
     "output_type": "execute_result"
    }
   ],
   "source": [
    "day_five(example_input, task_1 = False)"
   ]
  },
  {
   "cell_type": "markdown",
   "metadata": {},
   "source": [
    "### Day 5 tasks"
   ]
  },
  {
   "cell_type": "code",
   "execution_count": 161,
   "metadata": {},
   "outputs": [
    {
     "name": "stdout",
     "output_type": "stream",
     "text": [
      "task 1: ZRLJGSCTR\n",
      "task 2: PRTTGRFPB\n"
     ]
    }
   ],
   "source": [
    "with open(\"data/day05.txt\", \"r\") as file:\n",
    "    lines = file.read().splitlines()\n",
    "    \n",
    "task_1 = day_five(lines)\n",
    "task_2 = day_five(lines, task_1 = False)\n",
    "\n",
    "print(f\"task 1: {task_1}\\ntask 2: {task_2}\")"
   ]
  }
 ],
 "metadata": {
  "kernelspec": {
   "display_name": "Python 3.9.7 ('base')",
   "language": "python",
   "name": "python3"
  },
  "language_info": {
   "codemirror_mode": {
    "name": "ipython",
    "version": 3
   },
   "file_extension": ".py",
   "mimetype": "text/x-python",
   "name": "python",
   "nbconvert_exporter": "python",
   "pygments_lexer": "ipython3",
   "version": "3.9.7"
  },
  "orig_nbformat": 4,
  "vscode": {
   "interpreter": {
    "hash": "f970a4df7d20f1185ed003fdc4111c4356fb1f6e15a77319f2d0dcda97ed7847"
   }
  }
 },
 "nbformat": 4,
 "nbformat_minor": 2
}
