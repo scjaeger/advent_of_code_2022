{
 "cells": [
  {
   "cell_type": "code",
   "execution_count": 34,
   "metadata": {},
   "outputs": [],
   "source": [
    "import numpy as np\n",
    "import matplotlib.pyplot as plt"
   ]
  },
  {
   "cell_type": "code",
   "execution_count": 35,
   "metadata": {},
   "outputs": [],
   "source": [
    "example_input = [\n",
    "    \"R 4\",\n",
    "    \"U 4\",\n",
    "    \"L 3\",\n",
    "    \"D 1\",\n",
    "    \"R 4\",\n",
    "    \"D 1\",\n",
    "    \"L 5\",\n",
    "    \"R 2\",\n",
    "]\n",
    "\n",
    "example_input_2 = [\n",
    "    \"R 5\",\n",
    "    \"U 8\",\n",
    "    \"L 8\",\n",
    "    \"D 3\",\n",
    "    \"R 17\",\n",
    "    \"D 10\",\n",
    "    \"L 25\",\n",
    "    \"U 20\",\n",
    "]"
   ]
  },
  {
   "cell_type": "code",
   "execution_count": 44,
   "metadata": {},
   "outputs": [],
   "source": [
    "class Rope():\n",
    "    def __init__(self, movements: list, rope_length: int):\n",
    "\n",
    "        self.x = np.zeros(rope_length, dtype = np.int8)\n",
    "        self.y = np.zeros(rope_length, dtype = np.int8)\n",
    "        self.center_x = 0\n",
    "        self.center_y = 0\n",
    "        self.tail = rope_length - 1\n",
    "        self.map = np.array([[1]])\n",
    "        self.movements = movements\n",
    "\n",
    "    def get_tail_positions(self) -> int:\n",
    "        for move in self.movements:\n",
    "            self.get_movement(move)\n",
    "\n",
    "        return self.map\n",
    "\n",
    "\n",
    "    def initial_step(self, direction: str):\n",
    "        if direction == \"R\":\n",
    "            self.x[0] += 1\n",
    "        elif direction == \"L\":\n",
    "            self.x[0] -= 1\n",
    "        elif direction == \"U\":\n",
    "            self.y[0] += 1\n",
    "        elif direction == \"D\":\n",
    "            self.y[0] -= 1\n",
    "        else:\n",
    "            print(\"command unknown\")\n",
    "\n",
    "\n",
    "    def follow_step(self, index: int) -> bool:\n",
    "        x_distance = abs(self.x[index] - self.x[index + 1])\n",
    "        y_distance = abs(self.y[index] - self.y[index + 1])\n",
    "        if x_distance > 1 or y_distance > 1:\n",
    "            if self.x[index] < self.x[index + 1]:\n",
    "                self.x[index + 1] -= 1\n",
    "            elif self.x[index] > self.x[index + 1]:\n",
    "                self.x[index + 1] += 1\n",
    "\n",
    "            if self.y[index] < self.y[index + 1]:\n",
    "                self.y[index + 1] -= 1\n",
    "            elif self.y[index] > self.y[index + 1]:\n",
    "                self.y[index + 1] += 1\n",
    "\n",
    "        return None\n",
    "\n",
    "\n",
    "    def take_step(self, direction: str, index: int)-> tuple:\n",
    "\n",
    "        if index == 0:\n",
    "            self.initial_step(direction)\n",
    "        \n",
    "        self.follow_step(index)\n",
    "        if index+1 == self.tail:\n",
    "            self.add_position(index)\n",
    "\n",
    "        return None\n",
    "\n",
    "        \n",
    "\n",
    "    def add_position(self, index: int):\n",
    "        x = self.x[index + 1]\n",
    "        y = self.y[index + 1]\n",
    "\n",
    "        if x - self.center_x > self.map.shape[1] -1:\n",
    "            self.map = np.c_[self.map, np.zeros(self.map.shape[0])]\n",
    "\n",
    "        elif self.center_x - x < 0:\n",
    "            self.center_x += 1\n",
    "            self.map = np.c_[np.zeros(self.map.shape[0]), self.map]\n",
    "\n",
    "        elif y - self.center_y > self.map.shape[0] -1:\n",
    "            self.map = np.r_[self.map, np.array([np.zeros(self.map.shape[1])])]\n",
    "\n",
    "        elif self.center_y - y < 0:\n",
    "            self.center_y += 1\n",
    "            self.map = np.r_[np.array([np.zeros(self.map.shape[1])]), self.map]\n",
    "        print(self.map)\n",
    "        self.map[y + self.center_y, x + self.center_x] += 1\n",
    "\n",
    "        return None\n",
    "\n",
    "\n",
    "    def get_movement(self, command: str) -> None:\n",
    "        direction = command.split(\" \")[0]\n",
    "        steps = int(command.split(\" \")[1])\n",
    "\n",
    "        for n in range(steps):\n",
    "            print(f\"direction {direction}, step {n}\")\n",
    "            for i in range(self.tail):\n",
    "                self.take_step(direction, i)\n",
    "            # self.draw_steps()\n",
    "            # print(f\"step: {n}\\nx: {self.x}\\ny: {self.y}\")\n",
    "\n",
    "        return None\n",
    "\n"
   ]
  },
  {
   "cell_type": "code",
   "execution_count": 47,
   "metadata": {},
   "outputs": [
    {
     "name": "stdout",
     "output_type": "stream",
     "text": [
      "direction D, step 0\n",
      "[[1]]\n",
      "direction D, step 1\n",
      "[[2]]\n",
      "direction D, step 2\n",
      "[[3]]\n"
     ]
    },
    {
     "ename": "IndexError",
     "evalue": "index -2 is out of bounds for axis 0 with size 1",
     "output_type": "error",
     "traceback": [
      "\u001b[1;31m---------------------------------------------------------------------------\u001b[0m",
      "\u001b[1;31mIndexError\u001b[0m                                Traceback (most recent call last)",
      "\u001b[1;32mc:\\Users\\nalun\\Documents\\Programmieren\\advent_of_code_2022\\day09.ipynb Cell 4\u001b[0m in \u001b[0;36m<cell line: 2>\u001b[1;34m()\u001b[0m\n\u001b[0;32m      <a href='vscode-notebook-cell:/c%3A/Users/nalun/Documents/Programmieren/advent_of_code_2022/day09.ipynb#W3sZmlsZQ%3D%3D?line=0'>1</a>\u001b[0m test \u001b[39m=\u001b[39m Rope([\u001b[39m\"\u001b[39m\u001b[39mD 3\u001b[39m\u001b[39m\"\u001b[39m], \u001b[39m2\u001b[39m)\n\u001b[1;32m----> <a href='vscode-notebook-cell:/c%3A/Users/nalun/Documents/Programmieren/advent_of_code_2022/day09.ipynb#W3sZmlsZQ%3D%3D?line=1'>2</a>\u001b[0m test\u001b[39m.\u001b[39;49mget_tail_positions()\n",
      "\u001b[1;32mc:\\Users\\nalun\\Documents\\Programmieren\\advent_of_code_2022\\day09.ipynb Cell 4\u001b[0m in \u001b[0;36mRope.get_tail_positions\u001b[1;34m(self)\u001b[0m\n\u001b[0;32m     <a href='vscode-notebook-cell:/c%3A/Users/nalun/Documents/Programmieren/advent_of_code_2022/day09.ipynb#W3sZmlsZQ%3D%3D?line=11'>12</a>\u001b[0m \u001b[39mdef\u001b[39;00m \u001b[39mget_tail_positions\u001b[39m(\u001b[39mself\u001b[39m) \u001b[39m-\u001b[39m\u001b[39m>\u001b[39m \u001b[39mint\u001b[39m:\n\u001b[0;32m     <a href='vscode-notebook-cell:/c%3A/Users/nalun/Documents/Programmieren/advent_of_code_2022/day09.ipynb#W3sZmlsZQ%3D%3D?line=12'>13</a>\u001b[0m     \u001b[39mfor\u001b[39;00m move \u001b[39min\u001b[39;00m \u001b[39mself\u001b[39m\u001b[39m.\u001b[39mmovements:\n\u001b[1;32m---> <a href='vscode-notebook-cell:/c%3A/Users/nalun/Documents/Programmieren/advent_of_code_2022/day09.ipynb#W3sZmlsZQ%3D%3D?line=13'>14</a>\u001b[0m         \u001b[39mself\u001b[39;49m\u001b[39m.\u001b[39;49mget_movement(move)\n\u001b[0;32m     <a href='vscode-notebook-cell:/c%3A/Users/nalun/Documents/Programmieren/advent_of_code_2022/day09.ipynb#W3sZmlsZQ%3D%3D?line=15'>16</a>\u001b[0m     \u001b[39mreturn\u001b[39;00m \u001b[39mself\u001b[39m\u001b[39m.\u001b[39mmap\n",
      "\u001b[1;32mc:\\Users\\nalun\\Documents\\Programmieren\\advent_of_code_2022\\day09.ipynb Cell 4\u001b[0m in \u001b[0;36mRope.get_movement\u001b[1;34m(self, command)\u001b[0m\n\u001b[0;32m     <a href='vscode-notebook-cell:/c%3A/Users/nalun/Documents/Programmieren/advent_of_code_2022/day09.ipynb#W3sZmlsZQ%3D%3D?line=89'>90</a>\u001b[0m     \u001b[39mprint\u001b[39m(\u001b[39mf\u001b[39m\u001b[39m\"\u001b[39m\u001b[39mdirection \u001b[39m\u001b[39m{\u001b[39;00mdirection\u001b[39m}\u001b[39;00m\u001b[39m, step \u001b[39m\u001b[39m{\u001b[39;00mn\u001b[39m}\u001b[39;00m\u001b[39m\"\u001b[39m)\n\u001b[0;32m     <a href='vscode-notebook-cell:/c%3A/Users/nalun/Documents/Programmieren/advent_of_code_2022/day09.ipynb#W3sZmlsZQ%3D%3D?line=90'>91</a>\u001b[0m     \u001b[39mfor\u001b[39;00m i \u001b[39min\u001b[39;00m \u001b[39mrange\u001b[39m(\u001b[39mself\u001b[39m\u001b[39m.\u001b[39mtail):\n\u001b[1;32m---> <a href='vscode-notebook-cell:/c%3A/Users/nalun/Documents/Programmieren/advent_of_code_2022/day09.ipynb#W3sZmlsZQ%3D%3D?line=91'>92</a>\u001b[0m         \u001b[39mself\u001b[39;49m\u001b[39m.\u001b[39;49mtake_step(direction, i)\n\u001b[0;32m     <a href='vscode-notebook-cell:/c%3A/Users/nalun/Documents/Programmieren/advent_of_code_2022/day09.ipynb#W3sZmlsZQ%3D%3D?line=92'>93</a>\u001b[0m     \u001b[39m# self.draw_steps()\u001b[39;00m\n\u001b[0;32m     <a href='vscode-notebook-cell:/c%3A/Users/nalun/Documents/Programmieren/advent_of_code_2022/day09.ipynb#W3sZmlsZQ%3D%3D?line=93'>94</a>\u001b[0m     \u001b[39m# print(f\"step: {n}\\nx: {self.x}\\ny: {self.y}\")\u001b[39;00m\n\u001b[0;32m     <a href='vscode-notebook-cell:/c%3A/Users/nalun/Documents/Programmieren/advent_of_code_2022/day09.ipynb#W3sZmlsZQ%3D%3D?line=95'>96</a>\u001b[0m \u001b[39mreturn\u001b[39;00m \u001b[39mNone\u001b[39;00m\n",
      "\u001b[1;32mc:\\Users\\nalun\\Documents\\Programmieren\\advent_of_code_2022\\day09.ipynb Cell 4\u001b[0m in \u001b[0;36mRope.take_step\u001b[1;34m(self, direction, index)\u001b[0m\n\u001b[0;32m     <a href='vscode-notebook-cell:/c%3A/Users/nalun/Documents/Programmieren/advent_of_code_2022/day09.ipynb#W3sZmlsZQ%3D%3D?line=53'>54</a>\u001b[0m \u001b[39mself\u001b[39m\u001b[39m.\u001b[39mfollow_step(index)\n\u001b[0;32m     <a href='vscode-notebook-cell:/c%3A/Users/nalun/Documents/Programmieren/advent_of_code_2022/day09.ipynb#W3sZmlsZQ%3D%3D?line=54'>55</a>\u001b[0m \u001b[39mif\u001b[39;00m index\u001b[39m+\u001b[39m\u001b[39m1\u001b[39m \u001b[39m==\u001b[39m \u001b[39mself\u001b[39m\u001b[39m.\u001b[39mtail:\n\u001b[1;32m---> <a href='vscode-notebook-cell:/c%3A/Users/nalun/Documents/Programmieren/advent_of_code_2022/day09.ipynb#W3sZmlsZQ%3D%3D?line=55'>56</a>\u001b[0m     \u001b[39mself\u001b[39;49m\u001b[39m.\u001b[39;49madd_position(index)\n\u001b[0;32m     <a href='vscode-notebook-cell:/c%3A/Users/nalun/Documents/Programmieren/advent_of_code_2022/day09.ipynb#W3sZmlsZQ%3D%3D?line=57'>58</a>\u001b[0m \u001b[39mreturn\u001b[39;00m \u001b[39mNone\u001b[39;00m\n",
      "\u001b[1;32mc:\\Users\\nalun\\Documents\\Programmieren\\advent_of_code_2022\\day09.ipynb Cell 4\u001b[0m in \u001b[0;36mRope.add_position\u001b[1;34m(self, index)\u001b[0m\n\u001b[0;32m     <a href='vscode-notebook-cell:/c%3A/Users/nalun/Documents/Programmieren/advent_of_code_2022/day09.ipynb#W3sZmlsZQ%3D%3D?line=77'>78</a>\u001b[0m     \u001b[39mself\u001b[39m\u001b[39m.\u001b[39mmap \u001b[39m=\u001b[39m np\u001b[39m.\u001b[39mr_[np\u001b[39m.\u001b[39marray([np\u001b[39m.\u001b[39mzeros(\u001b[39mself\u001b[39m\u001b[39m.\u001b[39mmap\u001b[39m.\u001b[39mshape[\u001b[39m1\u001b[39m])]), \u001b[39mself\u001b[39m\u001b[39m.\u001b[39mmap]\n\u001b[0;32m     <a href='vscode-notebook-cell:/c%3A/Users/nalun/Documents/Programmieren/advent_of_code_2022/day09.ipynb#W3sZmlsZQ%3D%3D?line=78'>79</a>\u001b[0m \u001b[39mprint\u001b[39m(\u001b[39mself\u001b[39m\u001b[39m.\u001b[39mmap)\n\u001b[1;32m---> <a href='vscode-notebook-cell:/c%3A/Users/nalun/Documents/Programmieren/advent_of_code_2022/day09.ipynb#W3sZmlsZQ%3D%3D?line=79'>80</a>\u001b[0m \u001b[39mself\u001b[39m\u001b[39m.\u001b[39mmap[y \u001b[39m+\u001b[39m \u001b[39mself\u001b[39m\u001b[39m.\u001b[39mcenter_y, x \u001b[39m+\u001b[39m \u001b[39mself\u001b[39m\u001b[39m.\u001b[39mcenter_x] \u001b[39m+\u001b[39m\u001b[39m=\u001b[39m \u001b[39m1\u001b[39m\n\u001b[0;32m     <a href='vscode-notebook-cell:/c%3A/Users/nalun/Documents/Programmieren/advent_of_code_2022/day09.ipynb#W3sZmlsZQ%3D%3D?line=81'>82</a>\u001b[0m \u001b[39mreturn\u001b[39;00m \u001b[39mNone\u001b[39;00m\n",
      "\u001b[1;31mIndexError\u001b[0m: index -2 is out of bounds for axis 0 with size 1"
     ]
    }
   ],
   "source": [
    "test = Rope([\"D 3\"], 2)\n",
    "test.get_tail_positions()"
   ]
  },
  {
   "cell_type": "code",
   "execution_count": null,
   "metadata": {},
   "outputs": [
    {
     "data": {
      "text/plain": [
       "18"
      ]
     },
     "execution_count": 10,
     "metadata": {},
     "output_type": "execute_result"
    }
   ],
   "source": [
    "test = Rope([\"R 10\", \"U 25\"], 10)\n",
    "test.get_tail_positions()"
   ]
  },
  {
   "cell_type": "code",
   "execution_count": null,
   "metadata": {},
   "outputs": [
    {
     "name": "stderr",
     "output_type": "stream",
     "text": [
      "C:\\Users\\nalun\\AppData\\Local\\Temp\\ipykernel_8520\\3520871088.py:32: RuntimeWarning: overflow encountered in byte_scalars\n",
      "  x_distance = abs(self.x[index] - self.x[index + 1])\n",
      "C:\\Users\\nalun\\AppData\\Local\\Temp\\ipykernel_8520\\3520871088.py:33: RuntimeWarning: overflow encountered in byte_scalars\n",
      "  y_distance = abs(self.y[index] - self.y[index + 1])\n"
     ]
    },
    {
     "data": {
      "text/plain": [
       "3269"
      ]
     },
     "execution_count": 11,
     "metadata": {},
     "output_type": "execute_result"
    }
   ],
   "source": [
    "with open(\"data/day09.txt\", \"r\") as file:\n",
    "    lines = file.read().splitlines()\n",
    "\n",
    "task_1 = Rope(lines, 2)\n",
    "task_1.get_tail_positions()\n",
    "\n",
    "task_2 = Rope(lines, 10)\n",
    "task_2.get_tail_positions()"
   ]
  },
  {
   "cell_type": "code",
   "execution_count": 48,
   "metadata": {},
   "outputs": [
    {
     "data": {
      "text/plain": [
       "array([[1., 0., 0., 0.],\n",
       "       [1., 0., 1., 1.],\n",
       "       [1., 0., 0., 1.],\n",
       "       [1., 1., 1., 1.]])"
      ]
     },
     "execution_count": 48,
     "metadata": {},
     "output_type": "execute_result"
    }
   ],
   "source": [
    "import numpy as np\n",
    "\n",
    "\n",
    "map = np.array([[0]])\n",
    "x = 0\n",
    "y = 0\n",
    "center_x = 0\n",
    "center_y = 0\n",
    "\n",
    "for i in range(2):\n",
    "\n",
    "    x += 1\n",
    "\n",
    "    if x - center_x > map.shape[1] -1:\n",
    "        map = np.c_[map, np.zeros(map.shape[0])]\n",
    "    elif center_x - x < 0:\n",
    "        center_x += 1\n",
    "        map = np.c_[np.zeros(map.shape[0]), map]\n",
    "\n",
    "    map[y + center_y, x + center_x] += 1\n",
    "\n",
    "for i in range(2):\n",
    "\n",
    "    y += 1\n",
    "\n",
    "    if y - center_y > map.shape[0] -1:\n",
    "        map = np.r_[map, np.array([np.zeros(map.shape[1])])]\n",
    "    elif center_y - y < 0:\n",
    "        center_y += 1\n",
    "        map = np.r_[np.array([np.zeros(map.shape[1])]), map]\n",
    "\n",
    "    map[y + center_y, x + center_x] += 1\n",
    "\n",
    "for i in range(3):\n",
    "\n",
    "    x -= 1\n",
    "\n",
    "    if x - center_x > map.shape[1] -1:\n",
    "        map = np.c_[map, np.zeros(map.shape[0])]\n",
    "    elif center_x - x < 0:\n",
    "        center_x += 1\n",
    "        map = np.c_[np.zeros(map.shape[0]), map]\n",
    "\n",
    "    map[y + center_y, x + center_x] += 1\n",
    "\n",
    "for i in range(3):\n",
    "\n",
    "    y -= 1\n",
    "\n",
    "    if y - center_y > map.shape[0] -1:\n",
    "        map = np.r_[map, np.array([np.zeros(map.shape[1])])]\n",
    "    elif center_y - y < 0:\n",
    "        center_y += 1\n",
    "        map = np.r_[np.array([np.zeros(map.shape[1])]), map]\n",
    "\n",
    "    map[y + center_y, x + center_x] += 1\n",
    "\n",
    "\n",
    "map\n",
    "\n"
   ]
  },
  {
   "cell_type": "code",
   "execution_count": 39,
   "metadata": {},
   "outputs": [
    {
     "data": {
      "text/plain": [
       "(1, 1)"
      ]
     },
     "execution_count": 39,
     "metadata": {},
     "output_type": "execute_result"
    }
   ],
   "source": [
    "a = np.array([[1]])\n",
    "a.shape"
   ]
  }
 ],
 "metadata": {
  "kernelspec": {
   "display_name": "Python 3.8.8 ('base')",
   "language": "python",
   "name": "python3"
  },
  "language_info": {
   "codemirror_mode": {
    "name": "ipython",
    "version": 3
   },
   "file_extension": ".py",
   "mimetype": "text/x-python",
   "name": "python",
   "nbconvert_exporter": "python",
   "pygments_lexer": "ipython3",
   "version": "3.8.8 (default, Apr 13 2021, 15:08:03) [MSC v.1916 64 bit (AMD64)]"
  },
  "orig_nbformat": 4,
  "vscode": {
   "interpreter": {
    "hash": "54431435bd4a677c8d2e3fcf96d8fc19f3255af16baee5ed7bfacbeeaf7f2b8b"
   }
  }
 },
 "nbformat": 4,
 "nbformat_minor": 2
}
