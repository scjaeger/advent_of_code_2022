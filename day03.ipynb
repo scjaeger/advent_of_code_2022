{
 "cells": [
  {
   "cell_type": "code",
   "execution_count": 12,
   "metadata": {},
   "outputs": [],
   "source": [
    "import string"
   ]
  },
  {
   "cell_type": "markdown",
   "metadata": {},
   "source": [
    "### constants"
   ]
  },
  {
   "cell_type": "code",
   "execution_count": 13,
   "metadata": {},
   "outputs": [],
   "source": [
    "# make list of all lower and upper case letters\n",
    "lower = list(string.ascii_lowercase)\n",
    "upper = list(string.ascii_uppercase)\n",
    "letters = lower + upper"
   ]
  },
  {
   "cell_type": "markdown",
   "metadata": {},
   "source": [
    "### methods"
   ]
  },
  {
   "cell_type": "code",
   "execution_count": 20,
   "metadata": {},
   "outputs": [],
   "source": [
    "def get_line_value(line: str) -> int:\n",
    "\n",
    "    # divide string into parts of equal length\n",
    "    split = int(len(line)/2)\n",
    "    start = line[:split]\n",
    "    end = line[split:]\n",
    "\n",
    "    # check if symbols of the first half appear in the second\n",
    "    for symbol in start:\n",
    "        if symbol in end:\n",
    "            # get letter value by list index\n",
    "            return letters.index(symbol) +1\n",
    "\n",
    "    print(\"no match found\")\n",
    "    return None\n",
    "\n",
    "def get_group_batch(lines: list, index: int) -> int:\n",
    "    for symbol in lines[index]:\n",
    "        if symbol in lines[index+1] and symbol in lines[index+2]:\n",
    "            return letters.index(symbol) +1\n",
    "\n",
    "    print(\"no match found\")\n",
    "    return None\n"
   ]
  },
  {
   "cell_type": "markdown",
   "metadata": {},
   "source": [
    "### examples"
   ]
  },
  {
   "cell_type": "code",
   "execution_count": 24,
   "metadata": {},
   "outputs": [
    {
     "name": "stdout",
     "output_type": "stream",
     "text": [
      "examples\n",
      "task 1: 157\n",
      "task 2: 70 \n"
     ]
    }
   ],
   "source": [
    "# example\n",
    "lines = [\n",
    "    \"vJrwpWtwJgWrhcsFMMfFFhFp\",\n",
    "    \"jqHRNqRjqzjGDLGLrsFMfFZSrLrFZsSL\",\n",
    "    \"PmmdzqPrVvPwwTWBwg\",\n",
    "    \"wMqvLMZHhHMvwLHjbvcjnnSBnvTQFn\",\n",
    "    \"ttgJtRGJQctTZtZT\",\n",
    "    \"CrZsJsPPZsGzwwsLwLmpwMDw\"\n",
    "    ]\n",
    "\n",
    "task_1 = 0\n",
    "for line in lines:\n",
    "    task_1 += get_line_value(line)\n",
    "\n",
    "task_2 = 0\n",
    "for i in range(0, len(lines), 3):\n",
    "    task_2 += get_group_batch(lines, i)\n",
    "\n",
    "print(f\"examples\\ntask 1: {task_1}\\ntask 2: {task_2} \")\n"
   ]
  },
  {
   "cell_type": "markdown",
   "metadata": {},
   "source": [
    "### calculations"
   ]
  },
  {
   "cell_type": "code",
   "execution_count": 25,
   "metadata": {},
   "outputs": [
    {
     "name": "stdout",
     "output_type": "stream",
     "text": [
      "Solutions\n",
      "task 1: 8515\n",
      "task 2: 2434 \n"
     ]
    }
   ],
   "source": [
    "# first task\n",
    "\n",
    "with open(\"data/day03.txt\", \"r\") as file:\n",
    "    lines = file.read().splitlines()\n",
    "\n",
    "task_1 = 0\n",
    "for line in lines:\n",
    "    task_1 += get_line_value(line)\n",
    "\n",
    "task_2 = 0\n",
    "for i in range(0, len(lines), 3):\n",
    "    task_2 += get_group_batch(lines, i)\n",
    "\n",
    "print(f\"Solutions\\ntask 1: {task_1}\\ntask 2: {task_2} \")"
   ]
  }
 ],
 "metadata": {
  "kernelspec": {
   "display_name": "Python 3.8.8 ('base')",
   "language": "python",
   "name": "python3"
  },
  "language_info": {
   "codemirror_mode": {
    "name": "ipython",
    "version": 3
   },
   "file_extension": ".py",
   "mimetype": "text/x-python",
   "name": "python",
   "nbconvert_exporter": "python",
   "pygments_lexer": "ipython3",
   "version": "3.8.8"
  },
  "orig_nbformat": 4,
  "vscode": {
   "interpreter": {
    "hash": "54431435bd4a677c8d2e3fcf96d8fc19f3255af16baee5ed7bfacbeeaf7f2b8b"
   }
  }
 },
 "nbformat": 4,
 "nbformat_minor": 2
}
