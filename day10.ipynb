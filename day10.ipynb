{
 "cells": [
  {
   "attachments": {},
   "cell_type": "markdown",
   "metadata": {},
   "source": [
    "### Constants"
   ]
  },
  {
   "cell_type": "code",
   "execution_count": 107,
   "metadata": {},
   "outputs": [],
   "source": [
    "example_input = [\n",
    "    \"noop\",\n",
    "    \"addx 3\",\n",
    "    \"addx -5\"\n",
    "    ]\n",
    "\n",
    "\n",
    "outputs = [20, 60, 100, 140, 180, 220]"
   ]
  },
  {
   "attachments": {},
   "cell_type": "markdown",
   "metadata": {},
   "source": [
    "### Classes"
   ]
  },
  {
   "cell_type": "code",
   "execution_count": 108,
   "metadata": {},
   "outputs": [],
   "source": [
    "class ClockCircuit():\n",
    "    def __init__(self, signals: list):\n",
    "        self.x = 1\n",
    "        self.cycle = 1\n",
    "        self.add_cycle = False\n",
    "        self.signals = signals\n",
    "\n",
    "    def compute_line(self, line: str) -> None:\n",
    "        pass"
   ]
  },
  {
   "cell_type": "code",
   "execution_count": 109,
   "metadata": {},
   "outputs": [],
   "source": [
    "class SignalReader(ClockCircuit):\n",
    "    def __init__(self, signals: list, outputs: list):\n",
    "        super().__init__(signals)\n",
    "        self.signal_strength = 0\n",
    "        self.outputs = outputs\n",
    "\n",
    "    def get_signal_strength(self) -> int:\n",
    "\n",
    "        for i, line in enumerate(self.signals):\n",
    "            self.compute_line(line)\n",
    "            self.add_signal()\n",
    "\n",
    "        return self.signal_strength\n",
    "\n",
    "\n",
    "    def compute_line(self, line: str) -> None:\n",
    "        # noop adds +1 to cycle\n",
    "        if \"noop\" in line:\n",
    "            self.cycle += 1\n",
    "        \n",
    "        # the first cycle of addx increases the cycle, activates the second cycle and restarts this method\n",
    "        elif \"addx\" in line and not self.add_cycle:\n",
    "            self.cycle += 1\n",
    "            self.add_cycle = True\n",
    "            self.add_signal()\n",
    "            self.compute_line(line)\n",
    "\n",
    "        # the second cycle of addx adds its value to x and resets to the first cycle  \n",
    "        else:\n",
    "            value = int(line.split(\" \")[1])\n",
    "            self.cycle += 1\n",
    "            self.x += value\n",
    "            self.add_cycle = False\n",
    "        \n",
    "        return None\n",
    "\n",
    "    \n",
    "    def add_signal(self) -> None:\n",
    "        # if the current cycle is within the chosen ouputs values the produkt of cycle and x is added to signal strength\n",
    "        if self.cycle in self.outputs:\n",
    "            current_signal = self.cycle * self.x\n",
    "            self.signal_strength += current_signal\n"
   ]
  },
  {
   "cell_type": "code",
   "execution_count": 114,
   "metadata": {},
   "outputs": [],
   "source": [
    "class ImageWriter(ClockCircuit):\n",
    "    def __init__(self, signals: list):\n",
    "        super().__init__(signals)\n",
    "        self.crt_rows = []\n",
    "\n",
    "\n",
    "    def get_image(self):\n",
    "        row = []\n",
    "        for i, line in enumerate(self.signals):\n",
    "            row = self.compute_line(line, row)\n",
    "\n",
    "\n",
    "    def compute_line(self, line: str, row: list) -> None:\n",
    "        # draw current pixel\n",
    "        row = self.draw_pixel(row)\n",
    "\n",
    "        # noop adds +1 to cycle\n",
    "        if \"noop\" in line:\n",
    "            self.cycle += 1\n",
    "        \n",
    "        # the first cycle of addx increases the cycle, activates the second cycle and restarts this method\n",
    "        elif \"addx\" in line and not self.add_cycle:\n",
    "            self.cycle += 1\n",
    "            self.add_cycle = True\n",
    "            row = self.compute_line(line, row)\n",
    "\n",
    "        # the second cycle of addx adds its value to x and resets to the first cycle\n",
    "        else:\n",
    "            value = int(line.split(\" \")[1])\n",
    "            self.cycle += 1\n",
    "            self.x += value\n",
    "            self.add_cycle = False\n",
    "            \n",
    "        \n",
    "        return row\n",
    "\n",
    "    def draw_pixel(self, row: list):\n",
    "        # if register is within 1 range of postition draw #\n",
    "        if self.x - 1 <= len(row) <= self.x + 1:\n",
    "            row.append(\"#\")\n",
    "        else:\n",
    "            row.append(\".\")\n",
    "\n",
    "        # start new line evey 40th entry\n",
    "        if self.cycle % 40 == 0:\n",
    "            self.crt_rows.append(row)\n",
    "            print(row)\n",
    "            row = []\n",
    "\n",
    "        return row"
   ]
  },
  {
   "attachments": {},
   "cell_type": "markdown",
   "metadata": {},
   "source": [
    "### Tests"
   ]
  },
  {
   "cell_type": "code",
   "execution_count": 115,
   "metadata": {},
   "outputs": [
    {
     "name": "stdout",
     "output_type": "stream",
     "text": [
      "test 1: 13140\n",
      "test 2\n",
      "['#', '#', '.', '.', '#', '#', '.', '.', '#', '#', '.', '.', '#', '#', '.', '.', '#', '#', '.', '.', '#', '#', '.', '.', '#', '#', '.', '.', '#', '#', '.', '.', '#', '#', '.', '.', '#', '#', '.', '.']\n",
      "['#', '#', '#', '.', '.', '.', '#', '#', '#', '.', '.', '.', '#', '#', '#', '.', '.', '.', '#', '#', '#', '.', '.', '.', '#', '#', '#', '.', '.', '.', '#', '#', '#', '.', '.', '.', '#', '#', '#', '.']\n",
      "['#', '#', '#', '#', '.', '.', '.', '.', '#', '#', '#', '#', '.', '.', '.', '.', '#', '#', '#', '#', '.', '.', '.', '.', '#', '#', '#', '#', '.', '.', '.', '.', '#', '#', '#', '#', '.', '.', '.', '.']\n",
      "['#', '#', '#', '#', '#', '.', '.', '.', '.', '.', '#', '#', '#', '#', '#', '.', '.', '.', '.', '.', '#', '#', '#', '#', '#', '.', '.', '.', '.', '.', '#', '#', '#', '#', '#', '.', '.', '.', '.', '.']\n",
      "['#', '#', '#', '#', '#', '#', '.', '.', '.', '.', '.', '.', '#', '#', '#', '#', '#', '#', '.', '.', '.', '.', '.', '.', '#', '#', '#', '#', '#', '#', '.', '.', '.', '.', '.', '.', '#', '#', '#', '#']\n",
      "['#', '#', '#', '#', '#', '#', '#', '.', '.', '.', '.', '.', '.', '.', '#', '#', '#', '#', '#', '#', '#', '.', '.', '.', '.', '.', '.', '.', '#', '#', '#', '#', '#', '#', '#', '.', '.', '.', '.', '.']\n"
     ]
    }
   ],
   "source": [
    "with open(\"data/day10_test.txt\", \"r\") as file:\n",
    "    lines = file.read().splitlines()\n",
    "\n",
    "signal = SignalReader(lines, outputs)\n",
    "print(f\"test 1: {signal.get_signal_strength()}\")\n",
    "print(\"test 2\")\n",
    "writer = ImageWriter(lines).get_image()\n",
    "\n"
   ]
  },
  {
   "attachments": {},
   "cell_type": "markdown",
   "metadata": {},
   "source": [
    "### Day 10 Tasks"
   ]
  },
  {
   "cell_type": "code",
   "execution_count": 116,
   "metadata": {},
   "outputs": [
    {
     "name": "stdout",
     "output_type": "stream",
     "text": [
      "task 1: signal strength = 13760\n",
      "task 2\n",
      "['#', '#', '#', '.', '.', '#', '#', '#', '#', '.', '#', '.', '.', '#', '.', '#', '#', '#', '#', '.', '.', '#', '#', '.', '.', '#', '#', '#', '.', '.', '#', '#', '#', '#', '.', '#', '#', '#', '#', '.']\n",
      "['#', '.', '.', '#', '.', '#', '.', '.', '.', '.', '#', '.', '#', '.', '.', '.', '.', '.', '#', '.', '#', '.', '.', '#', '.', '#', '.', '.', '#', '.', '#', '.', '.', '.', '.', '#', '.', '.', '.', '.']\n",
      "['#', '.', '.', '#', '.', '#', '#', '#', '.', '.', '#', '#', '.', '.', '.', '.', '.', '#', '.', '.', '#', '.', '.', '.', '.', '#', '.', '.', '#', '.', '#', '#', '#', '.', '.', '#', '#', '#', '.', '.']\n",
      "['#', '#', '#', '.', '.', '#', '.', '.', '.', '.', '#', '.', '#', '.', '.', '.', '#', '.', '.', '.', '#', '.', '.', '.', '.', '#', '#', '#', '.', '.', '#', '.', '.', '.', '.', '#', '.', '.', '.', '.']\n",
      "['#', '.', '#', '.', '.', '#', '.', '.', '.', '.', '#', '.', '#', '.', '.', '#', '.', '.', '.', '.', '#', '.', '.', '#', '.', '#', '.', '.', '.', '.', '#', '.', '.', '.', '.', '#', '.', '.', '.', '.']\n",
      "['#', '.', '.', '#', '.', '#', '.', '.', '.', '.', '#', '.', '.', '#', '.', '#', '#', '#', '#', '.', '.', '#', '#', '.', '.', '#', '.', '.', '.', '.', '#', '#', '#', '#', '.', '#', '.', '.', '.', '.']\n"
     ]
    }
   ],
   "source": [
    "with open(\"data/day10.txt\", \"r\") as file:\n",
    "    lines = file.read().splitlines()\n",
    "\n",
    "signal = SignalReader(lines, outputs)\n",
    "print(f\"task 1: signal strength = {signal.get_signal_strength()}\")\n",
    "\n",
    "writer = ImageWriter(lines)\n",
    "print(\"task 2\")\n",
    "writer.get_image()"
   ]
  }
 ],
 "metadata": {
  "kernelspec": {
   "display_name": "base",
   "language": "python",
   "name": "python3"
  },
  "language_info": {
   "codemirror_mode": {
    "name": "ipython",
    "version": 3
   },
   "file_extension": ".py",
   "mimetype": "text/x-python",
   "name": "python",
   "nbconvert_exporter": "python",
   "pygments_lexer": "ipython3",
   "version": "3.8.8"
  },
  "orig_nbformat": 4,
  "vscode": {
   "interpreter": {
    "hash": "54431435bd4a677c8d2e3fcf96d8fc19f3255af16baee5ed7bfacbeeaf7f2b8b"
   }
  }
 },
 "nbformat": 4,
 "nbformat_minor": 2
}
